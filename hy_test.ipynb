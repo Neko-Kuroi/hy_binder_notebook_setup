{
  "nbformat": 4,
  "nbformat_minor": 0,
  "metadata": {
    "colab": {
      "private_outputs": true,
      "provenance": []
    },
    "kernelspec": {
      "name": "python3",
      "display_name": "Python 3"
    },
    "language_info": {
      "name": "python"
    }
  },
  "cells": [
    {
      "cell_type": "code",
      "source": [
        "import requests\n",
        "\n",
        "r = requests.get(\"https://rentry.co/fv9zo8wx/raw\")\n",
        "print(r.text)\n",
        "\n",
        "with open(\"hy.txt\", \"w\") as file:\n",
        "    file.write(r.text)"
      ],
      "metadata": {
        "id": "te-VH9Vfb0iB"
      },
      "execution_count": null,
      "outputs": []
    },
    {
      "cell_type": "code",
      "execution_count": null,
      "metadata": {
        "id": "J1B97N-XVxJP"
      },
      "outputs": [],
      "source": [
        "!pip install hy --upgrade"
      ]
    },
    {
      "cell_type": "code",
      "source": [
        "%%writefile hello.hy\n",
        "\n",
        "; セミコロンによるコメントは、他のLispと同じです\n",
        "\n",
        ";; S式の基本\n",
        "; Lispプログラムは、シンボリックな表現（S式）で構成され、\n",
        "; これは次のように見えます\n",
        ";(some-function args)\n",
        "; さて、代表的な「Hello World」の例です\n",
        "(print \"hello world\")\n"
      ],
      "metadata": {
        "id": "QRrNmpIuV1uq"
      },
      "execution_count": null,
      "outputs": []
    },
    {
      "cell_type": "code",
      "source": [
        "!hy2py hello.hy"
      ],
      "metadata": {
        "id": "osHrRxh4WIFf"
      },
      "execution_count": null,
      "outputs": []
    },
    {
      "cell_type": "code",
      "source": [
        "%%writefile complex_number.hy\n",
        "\n",
        ";; 単純なデータ型\n",
        "; 全ての単純なデータ型は、Pythonの対応するものと同じです\n",
        "42 ; => 42\n",
        "3.14 ; => 3.14\n",
        "True ; => True\n",
        "4+10j ; => (4+10j) 複素数"
      ],
      "metadata": {
        "id": "OInyWZ9JbKHl"
      },
      "execution_count": null,
      "outputs": []
    },
    {
      "cell_type": "code",
      "source": [
        "!hy2py complex_number.hy"
      ],
      "metadata": {
        "id": "rT4yBmembfEl"
      },
      "execution_count": null,
      "outputs": []
    },
    {
      "cell_type": "code",
      "source": [
        "%%writefile test_requests.hy\n",
        "\n",
        "(import requests)\n",
        "\n",
        "(setv r (.get requests \"https://rentry.co/fv9zo8wx/raw\"))\n",
        "(cond\n",
        "  (= r.status_code 200)\n",
        "    (for [line (.split r.text \"\\n\")]\n",
        "      (print line))\n",
        "  True\n",
        "    (print \"error\"))"
      ],
      "metadata": {
        "id": "elcQSe-jevIV"
      },
      "execution_count": null,
      "outputs": []
    },
    {
      "cell_type": "code",
      "source": [
        "!hy test_requests.hy"
      ],
      "metadata": {
        "id": "XDMpNrkTfyfB"
      },
      "execution_count": null,
      "outputs": []
    }
  ]
}